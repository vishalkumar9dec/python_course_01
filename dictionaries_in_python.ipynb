{
 "cells": [
  {
   "cell_type": "code",
   "execution_count": 18,
   "id": "a06561d2",
   "metadata": {},
   "outputs": [
    {
     "data": {
      "text/plain": [
       "{}"
      ]
     },
     "execution_count": 18,
     "metadata": {},
     "output_type": "execute_result"
    }
   ],
   "source": [
    "# dictionary -> collection of items of various datatypes in key-value pair, unordered, modifiable\n",
    "my_dict = dict()\n",
    "my_dict"
   ]
  },
  {
   "cell_type": "code",
   "execution_count": 6,
   "id": "e5cb6eda",
   "metadata": {},
   "outputs": [
    {
     "data": {
      "text/plain": [
       "dict"
      ]
     },
     "execution_count": 6,
     "metadata": {},
     "output_type": "execute_result"
    }
   ],
   "source": [
    "my_dict1 = {}\n",
    "type(my_dict1)"
   ]
  },
  {
   "cell_type": "code",
   "execution_count": null,
   "id": "c333a99f",
   "metadata": {},
   "outputs": [],
   "source": [
    "name, roll_number, course, contact, grade"
   ]
  },
  {
   "cell_type": "code",
   "execution_count": 8,
   "id": "871be651",
   "metadata": {},
   "outputs": [],
   "source": [
    "student = {\n",
    "    \"name\": \"Leo\",\n",
    "    \"roll\": 123,\n",
    "    \"course\": \"Machine Learning\",\n",
    "    \"contact\": \"leo@xyz.com\"\n",
    "}"
   ]
  },
  {
   "cell_type": "code",
   "execution_count": 9,
   "id": "4de51a6c",
   "metadata": {},
   "outputs": [
    {
     "name": "stdout",
     "output_type": "stream",
     "text": [
      "{'name': 'Leo', 'roll': 123, 'course': 'Machine Learning', 'contact': 'leo@xyz.com'}\n"
     ]
    }
   ],
   "source": [
    "print(student)"
   ]
  },
  {
   "cell_type": "code",
   "execution_count": 10,
   "id": "4b97b973",
   "metadata": {},
   "outputs": [
    {
     "data": {
      "text/plain": [
       "'Leo'"
      ]
     },
     "execution_count": 10,
     "metadata": {},
     "output_type": "execute_result"
    }
   ],
   "source": [
    "student['name']"
   ]
  },
  {
   "cell_type": "code",
   "execution_count": 11,
   "id": "dbbd7c06",
   "metadata": {},
   "outputs": [
    {
     "data": {
      "text/plain": [
       "'Machine Learning'"
      ]
     },
     "execution_count": 11,
     "metadata": {},
     "output_type": "execute_result"
    }
   ],
   "source": [
    "student['course']"
   ]
  },
  {
   "cell_type": "code",
   "execution_count": 12,
   "id": "a4871624",
   "metadata": {},
   "outputs": [
    {
     "data": {
      "text/plain": [
       "4"
      ]
     },
     "execution_count": 12,
     "metadata": {},
     "output_type": "execute_result"
    }
   ],
   "source": [
    "len(student)"
   ]
  },
  {
   "cell_type": "code",
   "execution_count": 13,
   "id": "26430555",
   "metadata": {},
   "outputs": [
    {
     "ename": "KeyError",
     "evalue": "'contacts'",
     "output_type": "error",
     "traceback": [
      "\u001b[0;31m---------------------------------------------------------------------------\u001b[0m",
      "\u001b[0;31mKeyError\u001b[0m                                  Traceback (most recent call last)",
      "Cell \u001b[0;32mIn [13], line 1\u001b[0m\n\u001b[0;32m----> 1\u001b[0m \u001b[43mstudent\u001b[49m\u001b[43m[\u001b[49m\u001b[38;5;124;43m'\u001b[39;49m\u001b[38;5;124;43mcontacts\u001b[39;49m\u001b[38;5;124;43m'\u001b[39;49m\u001b[43m]\u001b[49m\n",
      "\u001b[0;31mKeyError\u001b[0m: 'contacts'"
     ]
    }
   ],
   "source": [
    "student['contacts']"
   ]
  },
  {
   "cell_type": "code",
   "execution_count": 15,
   "id": "3613a095",
   "metadata": {},
   "outputs": [],
   "source": [
    "student.get('contacts')"
   ]
  },
  {
   "cell_type": "code",
   "execution_count": 16,
   "id": "dc32d1e7",
   "metadata": {},
   "outputs": [
    {
     "data": {
      "text/plain": [
       "'leo@xyz.com'"
      ]
     },
     "execution_count": 16,
     "metadata": {},
     "output_type": "execute_result"
    }
   ],
   "source": [
    "student.get('contact')"
   ]
  },
  {
   "cell_type": "code",
   "execution_count": 17,
   "id": "47bc22e1",
   "metadata": {},
   "outputs": [
    {
     "name": "stdout",
     "output_type": "stream",
     "text": [
      "{'name': 'Leo', 'roll': 123, 'course': 'Machine Learning', 'contact': 'leo@xyz.com', 'grade': 'A'}\n"
     ]
    }
   ],
   "source": [
    "# Adding a key to the dict\n",
    "\n",
    "student['grade'] = 'A'\n",
    "print(student)"
   ]
  },
  {
   "cell_type": "code",
   "execution_count": 21,
   "id": "fd23f97c",
   "metadata": {},
   "outputs": [
    {
     "data": {
      "text/plain": [
       "'A'"
      ]
     },
     "execution_count": 21,
     "metadata": {},
     "output_type": "execute_result"
    }
   ],
   "source": [
    "student['grade']"
   ]
  },
  {
   "cell_type": "code",
   "execution_count": 20,
   "id": "6922bbf8",
   "metadata": {
    "scrolled": true
   },
   "outputs": [
    {
     "data": {
      "text/plain": [
       "str"
      ]
     },
     "execution_count": 20,
     "metadata": {},
     "output_type": "execute_result"
    }
   ],
   "source": [
    "type(student['grade'])"
   ]
  },
  {
   "cell_type": "code",
   "execution_count": 22,
   "id": "ffb0dc0e",
   "metadata": {},
   "outputs": [
    {
     "data": {
      "text/plain": [
       "123"
      ]
     },
     "execution_count": 22,
     "metadata": {},
     "output_type": "execute_result"
    }
   ],
   "source": [
    "student['roll']"
   ]
  },
  {
   "cell_type": "code",
   "execution_count": 23,
   "id": "7ddf5fcc",
   "metadata": {},
   "outputs": [
    {
     "data": {
      "text/plain": [
       "int"
      ]
     },
     "execution_count": 23,
     "metadata": {},
     "output_type": "execute_result"
    }
   ],
   "source": [
    "type(student['roll'])"
   ]
  },
  {
   "cell_type": "code",
   "execution_count": 24,
   "id": "62cbce9c",
   "metadata": {},
   "outputs": [],
   "source": [
    "leo = {\n",
    "    \"name\": \"Leo\",\n",
    "    \"roll\": 123,\n",
    "    \"course\": \"Machine Learning\",\n",
    "    \"contact\": \"leo@xyz.com\"\n",
    "}"
   ]
  },
  {
   "cell_type": "code",
   "execution_count": 27,
   "id": "4867c1f7",
   "metadata": {},
   "outputs": [
    {
     "name": "stdout",
     "output_type": "stream",
     "text": [
      "{'name': 'Leo', 'roll': 123, 'course': ['Maths', 'Machine Learning'], 'contact': 'leo@xyz.com'}\n"
     ]
    }
   ],
   "source": [
    "# course -> 2 values --> [\"maths\", \"Machine learning\"]\n",
    "\n",
    "# Updating a key in dictonary\n",
    "\n",
    "leo['course'] = [\"Maths\", \"Machine Learning\"]\n",
    "print(leo)"
   ]
  },
  {
   "cell_type": "code",
   "execution_count": 28,
   "id": "c9a1d154",
   "metadata": {},
   "outputs": [
    {
     "data": {
      "text/plain": [
       "['Maths', 'Machine Learning']"
      ]
     },
     "execution_count": 28,
     "metadata": {},
     "output_type": "execute_result"
    }
   ],
   "source": [
    "leo['course']"
   ]
  },
  {
   "cell_type": "code",
   "execution_count": 29,
   "id": "8e100a9b",
   "metadata": {},
   "outputs": [],
   "source": [
    "leo['course'].insert(1, \"Python\")"
   ]
  },
  {
   "cell_type": "code",
   "execution_count": 30,
   "id": "0613abdb",
   "metadata": {},
   "outputs": [
    {
     "name": "stdout",
     "output_type": "stream",
     "text": [
      "{'name': 'Leo', 'roll': 123, 'course': ['Maths', 'Python', 'Machine Learning'], 'contact': 'leo@xyz.com'}\n"
     ]
    }
   ],
   "source": [
    "print(leo)"
   ]
  },
  {
   "cell_type": "code",
   "execution_count": 31,
   "id": "b1d24a6f",
   "metadata": {},
   "outputs": [],
   "source": [
    "leo['address'] = \"Phoenix\""
   ]
  },
  {
   "cell_type": "code",
   "execution_count": 32,
   "id": "cc4e1020",
   "metadata": {},
   "outputs": [
    {
     "name": "stdout",
     "output_type": "stream",
     "text": [
      "{'name': 'Leo', 'roll': 123, 'course': ['Maths', 'Python', 'Machine Learning'], 'contact': 'leo@xyz.com', 'address': 'Phoenix'}\n"
     ]
    }
   ],
   "source": [
    "print(leo)"
   ]
  },
  {
   "cell_type": "code",
   "execution_count": 33,
   "id": "0073f7f4",
   "metadata": {},
   "outputs": [],
   "source": [
    "# Address = \"home\": \"Arizona\", \"work\": \"Phoenix\"\n",
    "address = {\n",
    "    \"home\": \"Arizona\",\n",
    "    \"work\": \"Phoenix\"\n",
    "}"
   ]
  },
  {
   "cell_type": "code",
   "execution_count": 34,
   "id": "5efd2908",
   "metadata": {},
   "outputs": [],
   "source": [
    "leo['address'] = address"
   ]
  },
  {
   "cell_type": "code",
   "execution_count": 35,
   "id": "45bd51ec",
   "metadata": {},
   "outputs": [
    {
     "name": "stdout",
     "output_type": "stream",
     "text": [
      "{'name': 'Leo', 'roll': 123, 'course': ['Maths', 'Python', 'Machine Learning'], 'contact': 'leo@xyz.com', 'address': {'home': 'Arizona', 'work': 'Phoenix'}}\n"
     ]
    }
   ],
   "source": [
    "print(leo)"
   ]
  },
  {
   "cell_type": "code",
   "execution_count": 37,
   "id": "43c29683",
   "metadata": {},
   "outputs": [
    {
     "data": {
      "text/plain": [
       "{'home': 'Arizona', 'work': 'Phoenix'}"
      ]
     },
     "execution_count": 37,
     "metadata": {},
     "output_type": "execute_result"
    }
   ],
   "source": [
    "leo['address']"
   ]
  },
  {
   "cell_type": "code",
   "execution_count": 39,
   "id": "6c8ae5a2",
   "metadata": {},
   "outputs": [
    {
     "data": {
      "text/plain": [
       "'Phoenix'"
      ]
     },
     "execution_count": 39,
     "metadata": {},
     "output_type": "execute_result"
    }
   ],
   "source": [
    "leo['address']['work']"
   ]
  },
  {
   "cell_type": "code",
   "execution_count": 40,
   "id": "7106b209",
   "metadata": {},
   "outputs": [
    {
     "ename": "KeyError",
     "evalue": "'course(1)'",
     "output_type": "error",
     "traceback": [
      "\u001b[0;31m---------------------------------------------------------------------------\u001b[0m",
      "\u001b[0;31mKeyError\u001b[0m                                  Traceback (most recent call last)",
      "Cell \u001b[0;32mIn [40], line 3\u001b[0m\n\u001b[1;32m      1\u001b[0m \u001b[38;5;66;03m# Print Python\u001b[39;00m\n\u001b[0;32m----> 3\u001b[0m \u001b[43mleo\u001b[49m\u001b[43m[\u001b[49m\u001b[38;5;124;43m'\u001b[39;49m\u001b[38;5;124;43mcourse(1)\u001b[39;49m\u001b[38;5;124;43m'\u001b[39;49m\u001b[43m]\u001b[49m\n",
      "\u001b[0;31mKeyError\u001b[0m: 'course(1)'"
     ]
    }
   ],
   "source": [
    "# Print Python\n",
    "\n",
    "leo['course(']"
   ]
  },
  {
   "cell_type": "code",
   "execution_count": 43,
   "id": "01567948",
   "metadata": {},
   "outputs": [
    {
     "data": {
      "text/plain": [
       "'Python'"
      ]
     },
     "execution_count": 43,
     "metadata": {},
     "output_type": "execute_result"
    }
   ],
   "source": [
    "leo[\"course\"][1]"
   ]
  },
  {
   "cell_type": "code",
   "execution_count": null,
   "id": "cb00845e",
   "metadata": {},
   "outputs": [],
   "source": []
  }
 ],
 "metadata": {
  "kernelspec": {
   "display_name": "Python 3 (ipykernel)",
   "language": "python",
   "name": "python3"
  },
  "language_info": {
   "codemirror_mode": {
    "name": "ipython",
    "version": 3
   },
   "file_extension": ".py",
   "mimetype": "text/x-python",
   "name": "python",
   "nbconvert_exporter": "python",
   "pygments_lexer": "ipython3",
   "version": "3.10.5"
  }
 },
 "nbformat": 4,
 "nbformat_minor": 5
}
