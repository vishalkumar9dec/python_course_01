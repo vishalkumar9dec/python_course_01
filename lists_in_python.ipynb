{
 "cells": [
  {
   "cell_type": "code",
   "execution_count": 1,
   "id": "a4437df8",
   "metadata": {},
   "outputs": [
    {
     "ename": "SyntaxError",
     "evalue": "invalid syntax (145804765.py, line 1)",
     "output_type": "error",
     "traceback": [
      "\u001b[0;36m  Cell \u001b[0;32mIn [1], line 1\u001b[0;36m\u001b[0m\n\u001b[0;31m    Collections:\u001b[0m\n\u001b[0m                ^\u001b[0m\n\u001b[0;31mSyntaxError\u001b[0m\u001b[0;31m:\u001b[0m invalid syntax\n"
     ]
    }
   ],
   "source": [
    "Collections:\n",
    "\n",
    "List -> []\n",
    "Tuple -> ()\n",
    "Set -> {}\n",
    "Dictionary -> {key:value}"
   ]
  },
  {
   "cell_type": "code",
   "execution_count": 2,
   "id": "2ebdab12",
   "metadata": {},
   "outputs": [
    {
     "data": {
      "text/plain": [
       "'\\n    Lists: of elements of various datatypes. Duplicate elements. Mutable\\n    \\n'"
      ]
     },
     "execution_count": 2,
     "metadata": {},
     "output_type": "execute_result"
    }
   ],
   "source": [
    "'''\n",
    "    Lists: of elements of various datatypes. Duplicate elements. Mutable\n",
    "    \n",
    "'''"
   ]
  },
  {
   "cell_type": "code",
   "execution_count": 3,
   "id": "02d92428",
   "metadata": {},
   "outputs": [
    {
     "data": {
      "text/plain": [
       "[]"
      ]
     },
     "execution_count": 3,
     "metadata": {},
     "output_type": "execute_result"
    }
   ],
   "source": [
    "# Creating an empty list using built-in method\n",
    "my_lst = list()\n",
    "my_lst"
   ]
  },
  {
   "cell_type": "code",
   "execution_count": 4,
   "id": "54de7932",
   "metadata": {},
   "outputs": [
    {
     "data": {
      "text/plain": [
       "[]"
      ]
     },
     "execution_count": 4,
     "metadata": {},
     "output_type": "execute_result"
    }
   ],
   "source": [
    "# 2nd method\n",
    "\n",
    "my_lst = []\n",
    "my_lst"
   ]
  },
  {
   "cell_type": "code",
   "execution_count": 5,
   "id": "21ca8c82",
   "metadata": {},
   "outputs": [
    {
     "data": {
      "text/plain": [
       "['__add__',\n",
       " '__class__',\n",
       " '__class_getitem__',\n",
       " '__contains__',\n",
       " '__delattr__',\n",
       " '__delitem__',\n",
       " '__dir__',\n",
       " '__doc__',\n",
       " '__eq__',\n",
       " '__format__',\n",
       " '__ge__',\n",
       " '__getattribute__',\n",
       " '__getitem__',\n",
       " '__gt__',\n",
       " '__hash__',\n",
       " '__iadd__',\n",
       " '__imul__',\n",
       " '__init__',\n",
       " '__init_subclass__',\n",
       " '__iter__',\n",
       " '__le__',\n",
       " '__len__',\n",
       " '__lt__',\n",
       " '__mul__',\n",
       " '__ne__',\n",
       " '__new__',\n",
       " '__reduce__',\n",
       " '__reduce_ex__',\n",
       " '__repr__',\n",
       " '__reversed__',\n",
       " '__rmul__',\n",
       " '__setattr__',\n",
       " '__setitem__',\n",
       " '__sizeof__',\n",
       " '__str__',\n",
       " '__subclasshook__',\n",
       " 'append',\n",
       " 'clear',\n",
       " 'copy',\n",
       " 'count',\n",
       " 'extend',\n",
       " 'index',\n",
       " 'insert',\n",
       " 'pop',\n",
       " 'remove',\n",
       " 'reverse',\n",
       " 'sort']"
      ]
     },
     "execution_count": 5,
     "metadata": {},
     "output_type": "execute_result"
    }
   ],
   "source": [
    "dir(my_lst)"
   ]
  },
  {
   "cell_type": "code",
   "execution_count": 7,
   "id": "c516949e",
   "metadata": {},
   "outputs": [
    {
     "name": "stdout",
     "output_type": "stream",
     "text": [
      "7\n"
     ]
    }
   ],
   "source": [
    "web_techs = ['HTML', 'CSS', 'JS', 'React','Redux', 'Node', 'MongoDB']\n",
    "print(len(web_techs))"
   ]
  },
  {
   "cell_type": "code",
   "execution_count": 8,
   "id": "73a8bc9a",
   "metadata": {},
   "outputs": [
    {
     "name": "stdout",
     "output_type": "stream",
     "text": [
      "HTML\n"
     ]
    }
   ],
   "source": [
    "print(web_techs[0])"
   ]
  },
  {
   "cell_type": "code",
   "execution_count": 9,
   "id": "974c4bd9",
   "metadata": {},
   "outputs": [
    {
     "name": "stdout",
     "output_type": "stream",
     "text": [
      "MongoDB\n"
     ]
    }
   ],
   "source": [
    "print(web_techs[-1])"
   ]
  },
  {
   "cell_type": "code",
   "execution_count": 10,
   "id": "31f21609",
   "metadata": {},
   "outputs": [],
   "source": [
    "lst = ['Asabeneh', 250, True, {'country':'Finland', 'city':'Helsinki'}]"
   ]
  },
  {
   "cell_type": "code",
   "execution_count": 11,
   "id": "61cdc9c1",
   "metadata": {},
   "outputs": [
    {
     "name": "stdout",
     "output_type": "stream",
     "text": [
      "True\n"
     ]
    }
   ],
   "source": [
    "print(lst[2])"
   ]
  },
  {
   "cell_type": "code",
   "execution_count": 12,
   "id": "0c9d378c",
   "metadata": {},
   "outputs": [
    {
     "name": "stdout",
     "output_type": "stream",
     "text": [
      "<class 'bool'>\n"
     ]
    }
   ],
   "source": [
    "print(type(lst[2]))"
   ]
  },
  {
   "cell_type": "code",
   "execution_count": 13,
   "id": "da2f2bef",
   "metadata": {},
   "outputs": [
    {
     "name": "stdout",
     "output_type": "stream",
     "text": [
      "<class 'dict'>\n"
     ]
    }
   ],
   "source": [
    "print(type(lst[3]))"
   ]
  },
  {
   "cell_type": "code",
   "execution_count": 14,
   "id": "5e09e042",
   "metadata": {},
   "outputs": [
    {
     "data": {
      "text/plain": [
       "['HTML', 'CSS', 'JS', 'React', 'Redux', 'Node', 'MongoDB']"
      ]
     },
     "execution_count": 14,
     "metadata": {},
     "output_type": "execute_result"
    }
   ],
   "source": [
    "web_techs"
   ]
  },
  {
   "cell_type": "code",
   "execution_count": 17,
   "id": "6ac33045",
   "metadata": {},
   "outputs": [
    {
     "name": "stdout",
     "output_type": "stream",
     "text": [
      "['CSS', 'JS', 'React']\n"
     ]
    }
   ],
   "source": [
    "print(web_techs[1:4])"
   ]
  },
  {
   "cell_type": "code",
   "execution_count": 22,
   "id": "774053a6",
   "metadata": {},
   "outputs": [],
   "source": [
    "integers = [0,1,2,3,4,5,6,7,8]"
   ]
  },
  {
   "cell_type": "code",
   "execution_count": 23,
   "id": "9c709d7c",
   "metadata": {},
   "outputs": [
    {
     "name": "stdout",
     "output_type": "stream",
     "text": [
      "[0, 2, 4, 6, 8]\n"
     ]
    }
   ],
   "source": [
    "# Print only even integers\n",
    "print(integers[::2])"
   ]
  },
  {
   "cell_type": "code",
   "execution_count": 25,
   "id": "70c5484f",
   "metadata": {},
   "outputs": [
    {
     "name": "stdout",
     "output_type": "stream",
     "text": [
      "[0, 2, 4, 6, 8]\n"
     ]
    }
   ],
   "source": [
    "# Print only even integers\n",
    "print(integers[0::2])"
   ]
  },
  {
   "cell_type": "code",
   "execution_count": 26,
   "id": "81501104",
   "metadata": {},
   "outputs": [],
   "source": [
    "# Unpacking lists"
   ]
  },
  {
   "cell_type": "code",
   "execution_count": 27,
   "id": "44251f72",
   "metadata": {},
   "outputs": [
    {
     "name": "stdout",
     "output_type": "stream",
     "text": [
      "banana\n",
      "orange\n",
      "mango\n",
      "['lemon', 'lime', 'apple']\n"
     ]
    }
   ],
   "source": [
    "fruits = ['banana', 'orange', 'mango', 'lemon','lime','apple']\n",
    "first, second, third, *rest = fruits\n",
    "\n",
    "print(first)\n",
    "print(second)\n",
    "print(third)\n",
    "print(rest)"
   ]
  },
  {
   "cell_type": "code",
   "execution_count": 28,
   "id": "1cdf3930",
   "metadata": {},
   "outputs": [
    {
     "name": "stdout",
     "output_type": "stream",
     "text": [
      "1\n",
      "2\n",
      "3\n",
      "[4, 5, 6, 7, 8, 9]\n",
      "10\n"
     ]
    }
   ],
   "source": [
    "first, second, third,*rest, tenth = [1,2,3,4,5,6,7,8,9,10]\n",
    "print(first)\n",
    "print(second)\n",
    "print(third)\n",
    "print(rest)\n",
    "print(tenth)"
   ]
  },
  {
   "cell_type": "code",
   "execution_count": 29,
   "id": "b544dd78",
   "metadata": {},
   "outputs": [
    {
     "name": "stdout",
     "output_type": "stream",
     "text": [
      "['Denmark', 'Finland', 'Norway', 'Iceland']\n"
     ]
    }
   ],
   "source": [
    "countries = ['Germany', 'France','Belgium','Sweden','Denmark','Finland','Norway','Iceland','Estonia']\n",
    "gr, fr, bg, sw, *scandic, es = countries\n",
    "\n",
    "print(scandic)"
   ]
  },
  {
   "cell_type": "code",
   "execution_count": 30,
   "id": "a92cf50b",
   "metadata": {},
   "outputs": [],
   "source": [
    "fruits = ['banana', 'orange', 'mango', 'lemon','lime','apple']"
   ]
  },
  {
   "cell_type": "code",
   "execution_count": 31,
   "id": "ea9e17ca",
   "metadata": {},
   "outputs": [
    {
     "name": "stdout",
     "output_type": "stream",
     "text": [
      "lime\n"
     ]
    }
   ],
   "source": [
    "print(fruits[4])"
   ]
  },
  {
   "cell_type": "code",
   "execution_count": 32,
   "id": "c4b4d443",
   "metadata": {},
   "outputs": [
    {
     "name": "stdout",
     "output_type": "stream",
     "text": [
      "['banana', 'orange', 'mango', 'lemon', 'lime', 'apple']\n",
      "['banana', 'orange', 'mango', 'lemon', 'Melon', 'apple']\n"
     ]
    }
   ],
   "source": [
    "# Modifying elements in a list\n",
    "print(fruits)\n",
    "fruits[4] = \"Melon\"\n",
    "print(fruits)"
   ]
  },
  {
   "cell_type": "code",
   "execution_count": 33,
   "id": "25477395",
   "metadata": {},
   "outputs": [
    {
     "name": "stdout",
     "output_type": "stream",
     "text": [
      "['banana', 'orange', 'mango', 'lemon', 'Melon', 'apple']\n",
      "['apple', 'orange', 'mango', 'lemon', 'Melon', 'apple']\n"
     ]
    }
   ],
   "source": [
    "print(fruits)\n",
    "fruits[0] = \"apple\"\n",
    "print(fruits)"
   ]
  },
  {
   "cell_type": "code",
   "execution_count": 37,
   "id": "3cc89812",
   "metadata": {},
   "outputs": [
    {
     "name": "stdout",
     "output_type": "stream",
     "text": [
      "['apple', 'orange', 'mango', 'lemon', 'Melon', 'apple']\n",
      "True\n",
      "False\n"
     ]
    }
   ],
   "source": [
    "# Checking an element/item in list:\n",
    "print(fruits)\n",
    "print('orange' in fruits)\n",
    "print('banana' in fruits)"
   ]
  },
  {
   "cell_type": "code",
   "execution_count": 39,
   "id": "753d8bec",
   "metadata": {},
   "outputs": [
    {
     "data": {
      "text/plain": [
       "False"
      ]
     },
     "execution_count": 39,
     "metadata": {},
     "output_type": "execute_result"
    }
   ],
   "source": [
    "'f' in 'orange'"
   ]
  },
  {
   "cell_type": "code",
   "execution_count": 48,
   "id": "57ece0e6",
   "metadata": {},
   "outputs": [],
   "source": [
    "# Adding the elements\n",
    "\n",
    "my_list = ['apple', 'banana']"
   ]
  },
  {
   "cell_type": "code",
   "execution_count": 49,
   "id": "f1473722",
   "metadata": {},
   "outputs": [
    {
     "name": "stdout",
     "output_type": "stream",
     "text": [
      "['apple', 'banana']\n"
     ]
    }
   ],
   "source": [
    "print(my_list)"
   ]
  },
  {
   "cell_type": "code",
   "execution_count": 50,
   "id": "650c4df0",
   "metadata": {},
   "outputs": [
    {
     "ename": "IndexError",
     "evalue": "list assignment index out of range",
     "output_type": "error",
     "traceback": [
      "\u001b[0;31m---------------------------------------------------------------------------\u001b[0m",
      "\u001b[0;31mIndexError\u001b[0m                                Traceback (most recent call last)",
      "Cell \u001b[0;32mIn [50], line 1\u001b[0m\n\u001b[0;32m----> 1\u001b[0m \u001b[43mmy_list\u001b[49m\u001b[43m[\u001b[49m\u001b[38;5;241;43m2\u001b[39;49m\u001b[43m]\u001b[49m \u001b[38;5;241m=\u001b[39m \u001b[38;5;124m'\u001b[39m\u001b[38;5;124mmango\u001b[39m\u001b[38;5;124m'\u001b[39m\n",
      "\u001b[0;31mIndexError\u001b[0m: list assignment index out of range"
     ]
    }
   ],
   "source": [
    "my_list[2] = 'mango'"
   ]
  },
  {
   "cell_type": "code",
   "execution_count": 51,
   "id": "9025aefa",
   "metadata": {},
   "outputs": [],
   "source": [
    "my_list.append('mango')"
   ]
  },
  {
   "cell_type": "code",
   "execution_count": 52,
   "id": "6b32d7bc",
   "metadata": {},
   "outputs": [
    {
     "name": "stdout",
     "output_type": "stream",
     "text": [
      "['apple', 'banana', 'mango']\n"
     ]
    }
   ],
   "source": [
    "print(my_list)"
   ]
  },
  {
   "cell_type": "code",
   "execution_count": 53,
   "id": "6e8a2056",
   "metadata": {},
   "outputs": [
    {
     "name": "stdout",
     "output_type": "stream",
     "text": [
      "['apple', 'banana', 'mango', 'pineapple']\n"
     ]
    }
   ],
   "source": [
    "my_list.append(\"pineapple\")\n",
    "print(my_list)"
   ]
  },
  {
   "cell_type": "code",
   "execution_count": 54,
   "id": "b75e5024",
   "metadata": {},
   "outputs": [
    {
     "name": "stdout",
     "output_type": "stream",
     "text": [
      "['apple', 'dates', 'mango', 'pineapple']\n"
     ]
    }
   ],
   "source": [
    "# at index 1, I want to add \"dates\" fruit\n",
    "my_list[1] = \"dates\"\n",
    "print(my_list)"
   ]
  },
  {
   "cell_type": "code",
   "execution_count": 55,
   "id": "42aa67ce",
   "metadata": {},
   "outputs": [],
   "source": [
    "my_list.insert(2, \"banana\")"
   ]
  },
  {
   "cell_type": "code",
   "execution_count": 56,
   "id": "86a7e902",
   "metadata": {},
   "outputs": [
    {
     "name": "stdout",
     "output_type": "stream",
     "text": [
      "['apple', 'dates', 'banana', 'mango', 'pineapple']\n"
     ]
    }
   ],
   "source": [
    "print(my_list)"
   ]
  },
  {
   "cell_type": "code",
   "execution_count": 57,
   "id": "afba9c1c",
   "metadata": {},
   "outputs": [],
   "source": [
    "# append --> Add the item at the end of the list\n",
    "# insert --> add the item at a specific index"
   ]
  },
  {
   "cell_type": "code",
   "execution_count": 58,
   "id": "2627982b",
   "metadata": {},
   "outputs": [],
   "source": [
    "# Removing items from list\n",
    "# remove --> removes a specific item from the list\n",
    "# pop --> removes the item from a list at specific index or the last item"
   ]
  },
  {
   "cell_type": "code",
   "execution_count": 59,
   "id": "e366fe76",
   "metadata": {},
   "outputs": [
    {
     "name": "stdout",
     "output_type": "stream",
     "text": [
      "['apple', 'dates', 'banana', 'mango', 'pineapple']\n"
     ]
    }
   ],
   "source": [
    "print(my_list)"
   ]
  },
  {
   "cell_type": "code",
   "execution_count": 60,
   "id": "a7d9c397",
   "metadata": {},
   "outputs": [],
   "source": [
    "my_list.remove('mango')"
   ]
  },
  {
   "cell_type": "code",
   "execution_count": 61,
   "id": "68a7bc08",
   "metadata": {},
   "outputs": [
    {
     "name": "stdout",
     "output_type": "stream",
     "text": [
      "['apple', 'dates', 'banana', 'pineapple']\n"
     ]
    }
   ],
   "source": [
    "print(my_list)"
   ]
  },
  {
   "cell_type": "code",
   "execution_count": 62,
   "id": "996c94e5",
   "metadata": {},
   "outputs": [
    {
     "ename": "ValueError",
     "evalue": "list.remove(x): x not in list",
     "output_type": "error",
     "traceback": [
      "\u001b[0;31m---------------------------------------------------------------------------\u001b[0m",
      "\u001b[0;31mValueError\u001b[0m                                Traceback (most recent call last)",
      "Cell \u001b[0;32mIn [62], line 1\u001b[0m\n\u001b[0;32m----> 1\u001b[0m \u001b[43mmy_list\u001b[49m\u001b[38;5;241;43m.\u001b[39;49m\u001b[43mremove\u001b[49m\u001b[43m(\u001b[49m\u001b[38;5;124;43m'\u001b[39;49m\u001b[38;5;124;43mmango\u001b[39;49m\u001b[38;5;124;43m'\u001b[39;49m\u001b[43m)\u001b[49m\n",
      "\u001b[0;31mValueError\u001b[0m: list.remove(x): x not in list"
     ]
    }
   ],
   "source": [
    "my_list.remove('mango')"
   ]
  },
  {
   "cell_type": "code",
   "execution_count": 63,
   "id": "a0d955f9",
   "metadata": {},
   "outputs": [
    {
     "name": "stdout",
     "output_type": "stream",
     "text": [
      "['apple', 'dates', 'banana', 'pineapple']\n"
     ]
    }
   ],
   "source": [
    "print(my_list)"
   ]
  },
  {
   "cell_type": "code",
   "execution_count": 64,
   "id": "0fdcfbe8",
   "metadata": {},
   "outputs": [
    {
     "name": "stdout",
     "output_type": "stream",
     "text": [
      "['apple', 'dates', 'banana']\n"
     ]
    }
   ],
   "source": [
    "my_list.pop()\n",
    "print(my_list)"
   ]
  },
  {
   "cell_type": "code",
   "execution_count": 65,
   "id": "81bddf8a",
   "metadata": {},
   "outputs": [
    {
     "name": "stdout",
     "output_type": "stream",
     "text": [
      "['apple', 'banana']\n"
     ]
    }
   ],
   "source": [
    "my_list.pop(1)\n",
    "print(my_list)"
   ]
  },
  {
   "cell_type": "markdown",
   "id": "2dc865b2",
   "metadata": {},
   "source": [
    "# del\n",
    "# clear\n",
    "# copy\n",
    "# reverse\n",
    "# sort -> which algorithm is used for sorting"
   ]
  },
  {
   "cell_type": "code",
   "execution_count": 69,
   "id": "a64f26d6",
   "metadata": {},
   "outputs": [
    {
     "name": "stdout",
     "output_type": "stream",
     "text": [
      "[-5, -4, -3, 1, 2, 3, 4, 5, 6, 0]\n"
     ]
    }
   ],
   "source": [
    "# Adding a list\n",
    "\n",
    "positive_numbers = [1, 2, 3, 4, 5, 6]\n",
    "negative_numbers = [-5,-4,-3]\n",
    "zero = [0]\n",
    "\n",
    "all_numbers = negative_numbers +  positive_numbers + zero\n",
    "print(all_numbers)"
   ]
  },
  {
   "cell_type": "code",
   "execution_count": 67,
   "id": "09700e9f",
   "metadata": {},
   "outputs": [
    {
     "name": "stdout",
     "output_type": "stream",
     "text": [
      "['tomato', 'potato']\n"
     ]
    }
   ],
   "source": [
    "fruits = ['banana', 'mango']\n",
    "vegies = ['tomato', 'potato']\n",
    "print(vegies)"
   ]
  },
  {
   "cell_type": "code",
   "execution_count": 68,
   "id": "6918bb12",
   "metadata": {},
   "outputs": [
    {
     "name": "stdout",
     "output_type": "stream",
     "text": [
      "['tomato', 'potato', 'banana', 'mango']\n"
     ]
    }
   ],
   "source": [
    "vegies.extend(fruits)\n",
    "print(vegies)"
   ]
  },
  {
   "cell_type": "code",
   "execution_count": null,
   "id": "8ec0e990",
   "metadata": {},
   "outputs": [],
   "source": []
  }
 ],
 "metadata": {
  "kernelspec": {
   "display_name": "Python 3 (ipykernel)",
   "language": "python",
   "name": "python3"
  },
  "language_info": {
   "codemirror_mode": {
    "name": "ipython",
    "version": 3
   },
   "file_extension": ".py",
   "mimetype": "text/x-python",
   "name": "python",
   "nbconvert_exporter": "python",
   "pygments_lexer": "ipython3",
   "version": "3.10.5"
  }
 },
 "nbformat": 4,
 "nbformat_minor": 5
}
