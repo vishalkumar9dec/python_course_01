{
 "cells": [
  {
   "cell_type": "markdown",
   "id": "393e1856",
   "metadata": {},
   "source": [
    "a + b\n",
    "\n",
    "<operand> <operator> <operand>\n",
    "\n",
    "5 / 2 \n",
    "\n",
    "Operators:\n",
    "    1. Boolean --> True, False\n",
    "    2. Arithmetic --> \n",
    "        +, \n",
    "        -, \n",
    "        /, \n",
    "        *, \n",
    "        ** --> power or exponentiation\n",
    "        % --> Modulus operator\n",
    "        // --> Floor division\n",
    "    3. Assignment --> =\n",
    "    4. Comparision --> \n",
    "        == --> Equality\n",
    "        != --> Not equals to\n",
    "        < --> Less than\n",
    "        > --> Greater than\n",
    "        >= --> Greater than equals to\n",
    "        <= --> Less than equals to\n",
    "    5. Logical -->\n",
    "           and\n",
    "           or\n",
    "           not\n"
   ]
  },
  {
   "cell_type": "code",
   "execution_count": 1,
   "id": "5cd761cf",
   "metadata": {},
   "outputs": [],
   "source": [
    "a = 5"
   ]
  },
  {
   "cell_type": "code",
   "execution_count": 2,
   "id": "8fc179dc",
   "metadata": {},
   "outputs": [
    {
     "data": {
      "text/plain": [
       "True"
      ]
     },
     "execution_count": 2,
     "metadata": {},
     "output_type": "execute_result"
    }
   ],
   "source": [
    "a = True\n",
    "a"
   ]
  },
  {
   "cell_type": "code",
   "execution_count": 3,
   "id": "2ebb32fe",
   "metadata": {},
   "outputs": [
    {
     "data": {
      "text/plain": [
       "bool"
      ]
     },
     "execution_count": 3,
     "metadata": {},
     "output_type": "execute_result"
    }
   ],
   "source": [
    "type(a)"
   ]
  },
  {
   "cell_type": "code",
   "execution_count": 4,
   "id": "6ca5fbf0",
   "metadata": {},
   "outputs": [
    {
     "data": {
      "text/plain": [
       "False"
      ]
     },
     "execution_count": 4,
     "metadata": {},
     "output_type": "execute_result"
    }
   ],
   "source": [
    "b = False\n",
    "b"
   ]
  },
  {
   "cell_type": "markdown",
   "id": "61d69393",
   "metadata": {},
   "source": [
    "# Arithmetic Operators"
   ]
  },
  {
   "cell_type": "code",
   "execution_count": 5,
   "id": "9ace9330",
   "metadata": {},
   "outputs": [
    {
     "data": {
      "text/plain": [
       "7"
      ]
     },
     "execution_count": 5,
     "metadata": {},
     "output_type": "execute_result"
    }
   ],
   "source": [
    "5 + 2"
   ]
  },
  {
   "cell_type": "code",
   "execution_count": 6,
   "id": "948dfa85",
   "metadata": {},
   "outputs": [
    {
     "data": {
      "text/plain": [
       "3"
      ]
     },
     "execution_count": 6,
     "metadata": {},
     "output_type": "execute_result"
    }
   ],
   "source": [
    "5 - 2"
   ]
  },
  {
   "cell_type": "code",
   "execution_count": 7,
   "id": "51c3f157",
   "metadata": {},
   "outputs": [
    {
     "data": {
      "text/plain": [
       "3.3333333333333335"
      ]
     },
     "execution_count": 7,
     "metadata": {},
     "output_type": "execute_result"
    }
   ],
   "source": [
    "10 / 3"
   ]
  },
  {
   "cell_type": "code",
   "execution_count": 8,
   "id": "be5f8cdb",
   "metadata": {},
   "outputs": [
    {
     "data": {
      "text/plain": [
       "30"
      ]
     },
     "execution_count": 8,
     "metadata": {},
     "output_type": "execute_result"
    }
   ],
   "source": [
    "10 * 3"
   ]
  },
  {
   "cell_type": "code",
   "execution_count": 10,
   "id": "13f7330d",
   "metadata": {},
   "outputs": [
    {
     "data": {
      "text/plain": [
       "3"
      ]
     },
     "execution_count": 10,
     "metadata": {},
     "output_type": "execute_result"
    }
   ],
   "source": [
    "# Floor Division\n",
    "10 // 3"
   ]
  },
  {
   "cell_type": "code",
   "execution_count": 11,
   "id": "7d008837",
   "metadata": {},
   "outputs": [
    {
     "data": {
      "text/plain": [
       "6"
      ]
     },
     "execution_count": 11,
     "metadata": {},
     "output_type": "execute_result"
    }
   ],
   "source": [
    "2 * 3"
   ]
  },
  {
   "cell_type": "code",
   "execution_count": 12,
   "id": "90cdd47a",
   "metadata": {},
   "outputs": [
    {
     "data": {
      "text/plain": [
       "8"
      ]
     },
     "execution_count": 12,
     "metadata": {},
     "output_type": "execute_result"
    }
   ],
   "source": [
    "2 ** 3"
   ]
  },
  {
   "cell_type": "code",
   "execution_count": 13,
   "id": "949822e3",
   "metadata": {},
   "outputs": [
    {
     "data": {
      "text/plain": [
       "1"
      ]
     },
     "execution_count": 13,
     "metadata": {},
     "output_type": "execute_result"
    }
   ],
   "source": [
    "# Modulus --> gives the remainder\n",
    "10 % 3"
   ]
  },
  {
   "cell_type": "markdown",
   "id": "98786625",
   "metadata": {},
   "source": [
    "# Compiled vs Interpreted Languages"
   ]
  },
  {
   "cell_type": "markdown",
   "id": "7829c0a2",
   "metadata": {},
   "source": [
    "# Assignment Operators"
   ]
  },
  {
   "cell_type": "code",
   "execution_count": 1,
   "id": "e336e788",
   "metadata": {},
   "outputs": [],
   "source": [
    "my_name = \"Ram Lakhan\""
   ]
  },
  {
   "cell_type": "code",
   "execution_count": 2,
   "id": "6b2b535f",
   "metadata": {},
   "outputs": [
    {
     "data": {
      "text/plain": [
       "4490674352"
      ]
     },
     "execution_count": 2,
     "metadata": {},
     "output_type": "execute_result"
    }
   ],
   "source": [
    "id(my_name)"
   ]
  },
  {
   "cell_type": "code",
   "execution_count": 3,
   "id": "49ac55f4",
   "metadata": {},
   "outputs": [
    {
     "data": {
      "text/plain": [
       "30"
      ]
     },
     "execution_count": 3,
     "metadata": {},
     "output_type": "execute_result"
    }
   ],
   "source": [
    "marks = 20\n",
    "\n",
    "marks = marks + 10\n",
    "marks"
   ]
  },
  {
   "cell_type": "code",
   "execution_count": 4,
   "id": "15909473",
   "metadata": {},
   "outputs": [
    {
     "data": {
      "text/plain": [
       "40"
      ]
     },
     "execution_count": 4,
     "metadata": {},
     "output_type": "execute_result"
    }
   ],
   "source": [
    "marks = 30\n",
    "marks += 10\n",
    "marks"
   ]
  },
  {
   "cell_type": "code",
   "execution_count": 7,
   "id": "d3871a5a",
   "metadata": {},
   "outputs": [
    {
     "data": {
      "text/plain": [
       "9"
      ]
     },
     "execution_count": 7,
     "metadata": {},
     "output_type": "execute_result"
    }
   ],
   "source": [
    "a = 3\n",
    "a *= 3\n",
    "a"
   ]
  },
  {
   "cell_type": "markdown",
   "id": "5c27d168",
   "metadata": {},
   "source": [
    "# Comparision Operators"
   ]
  },
  {
   "cell_type": "code",
   "execution_count": 8,
   "id": "c30aca59",
   "metadata": {},
   "outputs": [
    {
     "data": {
      "text/plain": [
       "True"
      ]
     },
     "execution_count": 8,
     "metadata": {},
     "output_type": "execute_result"
    }
   ],
   "source": [
    "3 == 3"
   ]
  },
  {
   "cell_type": "code",
   "execution_count": 9,
   "id": "095c34c3",
   "metadata": {},
   "outputs": [
    {
     "data": {
      "text/plain": [
       "False"
      ]
     },
     "execution_count": 9,
     "metadata": {},
     "output_type": "execute_result"
    }
   ],
   "source": [
    "3 == '3'"
   ]
  },
  {
   "cell_type": "code",
   "execution_count": 10,
   "id": "4bca44de",
   "metadata": {},
   "outputs": [
    {
     "data": {
      "text/plain": [
       "False"
      ]
     },
     "execution_count": 10,
     "metadata": {},
     "output_type": "execute_result"
    }
   ],
   "source": [
    "3 > 3"
   ]
  },
  {
   "cell_type": "code",
   "execution_count": 11,
   "id": "ada0765e",
   "metadata": {},
   "outputs": [
    {
     "data": {
      "text/plain": [
       "True"
      ]
     },
     "execution_count": 11,
     "metadata": {},
     "output_type": "execute_result"
    }
   ],
   "source": [
    "3 >= 3"
   ]
  },
  {
   "cell_type": "code",
   "execution_count": 12,
   "id": "3e0c55c7",
   "metadata": {},
   "outputs": [
    {
     "data": {
      "text/plain": [
       "False"
      ]
     },
     "execution_count": 12,
     "metadata": {},
     "output_type": "execute_result"
    }
   ],
   "source": [
    "s1 = \"Ram\"\n",
    "s2 = \"Lakhan\"\n",
    "\n",
    "s1 == s2"
   ]
  },
  {
   "cell_type": "code",
   "execution_count": 13,
   "id": "6f476490",
   "metadata": {},
   "outputs": [
    {
     "data": {
      "text/plain": [
       "True"
      ]
     },
     "execution_count": 13,
     "metadata": {},
     "output_type": "execute_result"
    }
   ],
   "source": [
    "s1 = \"Ram\"\n",
    "s2 = \"Ram\"\n",
    "\n",
    "s1 == s2"
   ]
  },
  {
   "cell_type": "code",
   "execution_count": 15,
   "id": "67f4cb0e",
   "metadata": {},
   "outputs": [
    {
     "name": "stdout",
     "output_type": "stream",
     "text": [
      "3\n",
      "6\n"
     ]
    },
    {
     "data": {
      "text/plain": [
       "False"
      ]
     },
     "execution_count": 15,
     "metadata": {},
     "output_type": "execute_result"
    }
   ],
   "source": [
    "s1 = \"Ram\"\n",
    "s2 = \"Lakhan\"\n",
    "\n",
    "print(len(s1))\n",
    "print(len(s2))\n",
    "\n",
    "len(s1) == len(s2)"
   ]
  },
  {
   "cell_type": "markdown",
   "id": "72fa5c24",
   "metadata": {},
   "source": [
    "# Logical Operators --> To compare multiple statements\n",
    "\n",
    "and --> returns True if both the statements are true\n",
    "or --> returns True is any one of the statement is true\n",
    "not --> reverses the result --> if result is False it reverses it to True and vice versa."
   ]
  },
  {
   "cell_type": "code",
   "execution_count": 16,
   "id": "9b422f69",
   "metadata": {},
   "outputs": [
    {
     "data": {
      "text/plain": [
       "True"
      ]
     },
     "execution_count": 16,
     "metadata": {},
     "output_type": "execute_result"
    }
   ],
   "source": [
    "a = 3\n",
    "b = 6\n",
    "\n",
    "a == 3 and b == 6"
   ]
  },
  {
   "cell_type": "code",
   "execution_count": 17,
   "id": "90ff25c0",
   "metadata": {},
   "outputs": [
    {
     "data": {
      "text/plain": [
       "False"
      ]
     },
     "execution_count": 17,
     "metadata": {},
     "output_type": "execute_result"
    }
   ],
   "source": [
    "a == 4 and b == 6"
   ]
  },
  {
   "cell_type": "code",
   "execution_count": 18,
   "id": "705f8d72",
   "metadata": {},
   "outputs": [
    {
     "data": {
      "text/plain": [
       "True"
      ]
     },
     "execution_count": 18,
     "metadata": {},
     "output_type": "execute_result"
    }
   ],
   "source": [
    "a == 4 or b == 6"
   ]
  },
  {
   "cell_type": "code",
   "execution_count": 19,
   "id": "394a1a9e",
   "metadata": {},
   "outputs": [
    {
     "data": {
      "text/plain": [
       "False"
      ]
     },
     "execution_count": 19,
     "metadata": {},
     "output_type": "execute_result"
    }
   ],
   "source": [
    "not(a == 4 or b == 6)"
   ]
  },
  {
   "cell_type": "code",
   "execution_count": 20,
   "id": "ba10f622",
   "metadata": {},
   "outputs": [
    {
     "data": {
      "text/plain": [
       "True"
      ]
     },
     "execution_count": 20,
     "metadata": {},
     "output_type": "execute_result"
    }
   ],
   "source": [
    "a = 3\n",
    "b = 6\n",
    "c = 5\n",
    "\n",
    "a == 3 and b == 6 or c == 5"
   ]
  },
  {
   "cell_type": "code",
   "execution_count": 21,
   "id": "e32dcca0",
   "metadata": {},
   "outputs": [
    {
     "data": {
      "text/plain": [
       "False"
      ]
     },
     "execution_count": 21,
     "metadata": {},
     "output_type": "execute_result"
    }
   ],
   "source": [
    "a == 3 and b == 5 and c == 5"
   ]
  },
  {
   "cell_type": "code",
   "execution_count": 22,
   "id": "a2172e97",
   "metadata": {},
   "outputs": [
    {
     "data": {
      "text/plain": [
       "True"
      ]
     },
     "execution_count": 22,
     "metadata": {},
     "output_type": "execute_result"
    }
   ],
   "source": [
    "a == 3 and b == 5 or c == 5"
   ]
  },
  {
   "cell_type": "code",
   "execution_count": 23,
   "id": "02298dfe",
   "metadata": {},
   "outputs": [
    {
     "data": {
      "text/plain": [
       "314.0"
      ]
     },
     "execution_count": 23,
     "metadata": {},
     "output_type": "execute_result"
    }
   ],
   "source": [
    "# Area of a circle --> PI * r * r --> PI * r**2\n",
    "\n",
    "radius = 10\n",
    "\n",
    "area = 3.14 * 10 ** 2\n",
    "area"
   ]
  },
  {
   "cell_type": "markdown",
   "id": "8d51f415",
   "metadata": {},
   "source": [
    "# Precedence and Associativity"
   ]
  },
  {
   "cell_type": "code",
   "execution_count": null,
   "id": "f2eb57ae",
   "metadata": {},
   "outputs": [],
   "source": []
  }
 ],
 "metadata": {
  "kernelspec": {
   "display_name": "Python 3 (ipykernel)",
   "language": "python",
   "name": "python3"
  },
  "language_info": {
   "codemirror_mode": {
    "name": "ipython",
    "version": 3
   },
   "file_extension": ".py",
   "mimetype": "text/x-python",
   "name": "python",
   "nbconvert_exporter": "python",
   "pygments_lexer": "ipython3",
   "version": "3.10.5"
  }
 },
 "nbformat": 4,
 "nbformat_minor": 5
}
