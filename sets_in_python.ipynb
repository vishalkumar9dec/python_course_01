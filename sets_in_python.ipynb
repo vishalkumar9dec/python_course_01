{
 "cells": [
  {
   "cell_type": "code",
   "execution_count": 12,
   "id": "810a2b0e",
   "metadata": {},
   "outputs": [],
   "source": [
    "# Set -> Collection of various datatypes, unique, sorted items, mutable\n",
    "\n",
    "my_set = set()"
   ]
  },
  {
   "cell_type": "code",
   "execution_count": 37,
   "id": "7e1e8ddc",
   "metadata": {},
   "outputs": [],
   "source": [
    "# my_set = {}\n",
    "# type(my_set)"
   ]
  },
  {
   "cell_type": "code",
   "execution_count": 5,
   "id": "b4877b2e",
   "metadata": {},
   "outputs": [],
   "source": [
    "fruits = {'banana', 'orange', 'mango', 'lemon'}"
   ]
  },
  {
   "cell_type": "code",
   "execution_count": 6,
   "id": "8ff1258e",
   "metadata": {},
   "outputs": [
    {
     "data": {
      "text/plain": [
       "set"
      ]
     },
     "execution_count": 6,
     "metadata": {},
     "output_type": "execute_result"
    }
   ],
   "source": [
    "# fruits = ''\n",
    "type(fruits)"
   ]
  },
  {
   "cell_type": "code",
   "execution_count": 10,
   "id": "baa1829c",
   "metadata": {},
   "outputs": [
    {
     "name": "stdout",
     "output_type": "stream",
     "text": [
      "4\n"
     ]
    }
   ],
   "source": [
    "print(len(fruits))"
   ]
  },
  {
   "cell_type": "code",
   "execution_count": null,
   "id": "3aa380e3",
   "metadata": {},
   "outputs": [],
   "source": [
    "print(fruits[1])"
   ]
  },
  {
   "cell_type": "code",
   "execution_count": 7,
   "id": "c7500f36",
   "metadata": {},
   "outputs": [
    {
     "data": {
      "text/plain": [
       "True"
      ]
     },
     "execution_count": 7,
     "metadata": {},
     "output_type": "execute_result"
    }
   ],
   "source": [
    "# banana = 'banana'\n",
    "'banana' in fruits"
   ]
  },
  {
   "cell_type": "code",
   "execution_count": 9,
   "id": "c9bad794",
   "metadata": {},
   "outputs": [
    {
     "data": {
      "text/plain": [
       "False"
      ]
     },
     "execution_count": 9,
     "metadata": {},
     "output_type": "execute_result"
    }
   ],
   "source": [
    "fruit = \"oranges\"\n",
    "fruit in fruits"
   ]
  },
  {
   "cell_type": "code",
   "execution_count": 11,
   "id": "7bdc1a43",
   "metadata": {},
   "outputs": [
    {
     "name": "stdout",
     "output_type": "stream",
     "text": [
      "{'mango', 'date', 'lemon', 'banana', 'orange'}\n"
     ]
    }
   ],
   "source": [
    "# Adding an item to set\n",
    "\n",
    "fruits.add('date')\n",
    "print(fruits)"
   ]
  },
  {
   "cell_type": "code",
   "execution_count": 13,
   "id": "1feb77d2",
   "metadata": {},
   "outputs": [
    {
     "name": "stdout",
     "output_type": "stream",
     "text": [
      "{'mango', 'date', 'lemon', 'banana', 'orange'}\n"
     ]
    }
   ],
   "source": [
    "fruits.add('mango')\n",
    "print(fruits)"
   ]
  },
  {
   "cell_type": "code",
   "execution_count": 14,
   "id": "9aef9333",
   "metadata": {},
   "outputs": [
    {
     "name": "stdout",
     "output_type": "stream",
     "text": [
      "{1, 'mango', 'date', 'lemon', 'banana', 'orange'}\n"
     ]
    }
   ],
   "source": [
    "fruits.add(1)\n",
    "print(fruits)"
   ]
  },
  {
   "cell_type": "code",
   "execution_count": 15,
   "id": "38caa445",
   "metadata": {},
   "outputs": [
    {
     "name": "stdout",
     "output_type": "stream",
     "text": [
      "{1, 'mango', 'lime', 'muskmelon', 'date', 'lemon', 'dragonfruit', 'banana', 'orange'}\n"
     ]
    }
   ],
   "source": [
    "# Adding multiple items to a set\n",
    "\n",
    "extra_fruits = ['lime', 'muskmelon', 'dragonfruit']\n",
    "\n",
    "fruits.update(extra_fruits)\n",
    "print(fruits)"
   ]
  },
  {
   "cell_type": "code",
   "execution_count": 16,
   "id": "d13782a8",
   "metadata": {},
   "outputs": [
    {
     "data": {
      "text/plain": [
       "1"
      ]
     },
     "execution_count": 16,
     "metadata": {},
     "output_type": "execute_result"
    }
   ],
   "source": [
    "fruits.pop()"
   ]
  },
  {
   "cell_type": "code",
   "execution_count": 17,
   "id": "ee1d29d6",
   "metadata": {},
   "outputs": [
    {
     "name": "stdout",
     "output_type": "stream",
     "text": [
      "{'mango', 'lime', 'muskmelon', 'date', 'lemon', 'dragonfruit', 'banana', 'orange'}\n"
     ]
    }
   ],
   "source": [
    "print(fruits)"
   ]
  },
  {
   "cell_type": "code",
   "execution_count": 18,
   "id": "f6368120",
   "metadata": {},
   "outputs": [
    {
     "data": {
      "text/plain": [
       "'mango'"
      ]
     },
     "execution_count": 18,
     "metadata": {},
     "output_type": "execute_result"
    }
   ],
   "source": [
    "fruits.pop()"
   ]
  },
  {
   "cell_type": "code",
   "execution_count": 19,
   "id": "5dd5adc4",
   "metadata": {},
   "outputs": [
    {
     "name": "stdout",
     "output_type": "stream",
     "text": [
      "{'lime', 'muskmelon', 'date', 'lemon', 'dragonfruit', 'banana', 'orange'}\n"
     ]
    }
   ],
   "source": [
    "print(fruits)"
   ]
  },
  {
   "cell_type": "code",
   "execution_count": 20,
   "id": "4eb2e547",
   "metadata": {},
   "outputs": [],
   "source": [
    "fruits.remove('dragonfruit')"
   ]
  },
  {
   "cell_type": "code",
   "execution_count": 21,
   "id": "5f446f09",
   "metadata": {},
   "outputs": [
    {
     "name": "stdout",
     "output_type": "stream",
     "text": [
      "{'lime', 'muskmelon', 'date', 'lemon', 'banana', 'orange'}\n"
     ]
    }
   ],
   "source": [
    "print(fruits)"
   ]
  },
  {
   "cell_type": "code",
   "execution_count": 22,
   "id": "68035415",
   "metadata": {},
   "outputs": [
    {
     "ename": "KeyError",
     "evalue": "'dragonfruit'",
     "output_type": "error",
     "traceback": [
      "\u001b[0;31m---------------------------------------------------------------------------\u001b[0m",
      "\u001b[0;31mKeyError\u001b[0m                                  Traceback (most recent call last)",
      "Cell \u001b[0;32mIn [22], line 1\u001b[0m\n\u001b[0;32m----> 1\u001b[0m \u001b[43mfruits\u001b[49m\u001b[38;5;241;43m.\u001b[39;49m\u001b[43mremove\u001b[49m\u001b[43m(\u001b[49m\u001b[38;5;124;43m'\u001b[39;49m\u001b[38;5;124;43mdragonfruit\u001b[39;49m\u001b[38;5;124;43m'\u001b[39;49m\u001b[43m)\u001b[49m\n",
      "\u001b[0;31mKeyError\u001b[0m: 'dragonfruit'"
     ]
    }
   ],
   "source": [
    "fruits.remove('dragonfruit')"
   ]
  },
  {
   "cell_type": "code",
   "execution_count": 23,
   "id": "34e5def9",
   "metadata": {},
   "outputs": [],
   "source": [
    "fruits.discard('dragonfruit')"
   ]
  },
  {
   "cell_type": "markdown",
   "id": "b30ab133",
   "metadata": {},
   "source": [
    "# del\n",
    "# clear"
   ]
  },
  {
   "cell_type": "markdown",
   "id": "84e8ef34",
   "metadata": {},
   "source": [
    "# type conversion"
   ]
  },
  {
   "cell_type": "code",
   "execution_count": 24,
   "id": "f17e5dd3",
   "metadata": {},
   "outputs": [
    {
     "data": {
      "text/plain": [
       "int"
      ]
     },
     "execution_count": 24,
     "metadata": {},
     "output_type": "execute_result"
    }
   ],
   "source": [
    "age = 20\n",
    "type(age)"
   ]
  },
  {
   "cell_type": "code",
   "execution_count": 26,
   "id": "91e89c2d",
   "metadata": {},
   "outputs": [
    {
     "name": "stdout",
     "output_type": "stream",
     "text": [
      "20\n"
     ]
    },
    {
     "data": {
      "text/plain": [
       "str"
      ]
     },
     "execution_count": 26,
     "metadata": {},
     "output_type": "execute_result"
    }
   ],
   "source": [
    "age = str(age)\n",
    "print(age)\n",
    "type(age)"
   ]
  },
  {
   "cell_type": "code",
   "execution_count": 27,
   "id": "4b3e6fb9",
   "metadata": {},
   "outputs": [
    {
     "data": {
      "text/plain": [
       "str"
      ]
     },
     "execution_count": 27,
     "metadata": {},
     "output_type": "execute_result"
    }
   ],
   "source": [
    "name = \"Leo\"\n",
    "type(name)"
   ]
  },
  {
   "cell_type": "code",
   "execution_count": 28,
   "id": "a50b99e7",
   "metadata": {},
   "outputs": [
    {
     "ename": "ValueError",
     "evalue": "invalid literal for int() with base 10: 'Leo'",
     "output_type": "error",
     "traceback": [
      "\u001b[0;31m---------------------------------------------------------------------------\u001b[0m",
      "\u001b[0;31mValueError\u001b[0m                                Traceback (most recent call last)",
      "Cell \u001b[0;32mIn [28], line 1\u001b[0m\n\u001b[0;32m----> 1\u001b[0m \u001b[38;5;28;43mint\u001b[39;49m\u001b[43m(\u001b[49m\u001b[43mname\u001b[49m\u001b[43m)\u001b[49m\n",
      "\u001b[0;31mValueError\u001b[0m: invalid literal for int() with base 10: 'Leo'"
     ]
    }
   ],
   "source": [
    "int(name)"
   ]
  },
  {
   "cell_type": "code",
   "execution_count": 29,
   "id": "37bfd172",
   "metadata": {},
   "outputs": [
    {
     "name": "stdout",
     "output_type": "stream",
     "text": [
      "<class 'list'>\n"
     ]
    }
   ],
   "source": [
    "extra_fruits = ['lime', 'muskmelon', 'dragonfruit']\n",
    "print(type(extra_fruits))"
   ]
  },
  {
   "cell_type": "code",
   "execution_count": 30,
   "id": "3c19255e",
   "metadata": {},
   "outputs": [
    {
     "name": "stdout",
     "output_type": "stream",
     "text": [
      "<class 'set'>\n"
     ]
    }
   ],
   "source": [
    "set_fruits = set(extra_fruits)\n",
    "print(type(set_fruits))"
   ]
  },
  {
   "cell_type": "code",
   "execution_count": 31,
   "id": "08a7e5be",
   "metadata": {},
   "outputs": [
    {
     "name": "stdout",
     "output_type": "stream",
     "text": [
      "{'dragonfruit', 'lime', 'muskmelon'}\n"
     ]
    }
   ],
   "source": [
    "print(set_fruits)"
   ]
  },
  {
   "cell_type": "code",
   "execution_count": 35,
   "id": "fbb74638",
   "metadata": {},
   "outputs": [
    {
     "name": "stdout",
     "output_type": "stream",
     "text": [
      "<class 'list'>\n",
      "<class 'set'>\n"
     ]
    },
    {
     "data": {
      "text/plain": [
       "{'lime', 'mango'}"
      ]
     },
     "execution_count": 35,
     "metadata": {},
     "output_type": "execute_result"
    }
   ],
   "source": [
    "# Find the common items from 2 lists -->  'mango', 'lime'\n",
    "all_fruits = ['mango', 'date', 'lime', 'tomato']\n",
    "fav_fruits = ['mango', 'lime', 'orage']\n",
    "print(type(all_fruits))\n",
    "all_fruits = set(all_fruits)\n",
    "fav_fruits = set(fav_fruits)\n",
    "print(type(all_fruits))\n",
    "\n",
    "all_fruits.intersection(fav_fruits)"
   ]
  },
  {
   "cell_type": "code",
   "execution_count": null,
   "id": "6f7410e2",
   "metadata": {},
   "outputs": [],
   "source": []
  }
 ],
 "metadata": {
  "kernelspec": {
   "display_name": "Python 3 (ipykernel)",
   "language": "python",
   "name": "python3"
  },
  "language_info": {
   "codemirror_mode": {
    "name": "ipython",
    "version": 3
   },
   "file_extension": ".py",
   "mimetype": "text/x-python",
   "name": "python",
   "nbconvert_exporter": "python",
   "pygments_lexer": "ipython3",
   "version": "3.10.5"
  }
 },
 "nbformat": 4,
 "nbformat_minor": 5
}
