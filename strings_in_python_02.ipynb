{
 "cells": [
  {
   "cell_type": "code",
   "execution_count": 1,
   "id": "b11d2091",
   "metadata": {},
   "outputs": [],
   "source": [
    "a = 5\n",
    "b = 5\n",
    "\n",
    "a = b = 5"
   ]
  },
  {
   "cell_type": "code",
   "execution_count": 2,
   "id": "d7429016",
   "metadata": {},
   "outputs": [
    {
     "name": "stdout",
     "output_type": "stream",
     "text": [
      "L\n",
      "e\n",
      "o\n"
     ]
    }
   ],
   "source": [
    "# Unpacking characters\n",
    "name = \"Leo\"\n",
    "a,b,c = name\n",
    "print(a)\n",
    "print(b)\n",
    "print(c)"
   ]
  },
  {
   "cell_type": "markdown",
   "id": "3689b671",
   "metadata": {},
   "source": [
    "# Indexing and Slincing"
   ]
  },
  {
   "cell_type": "code",
   "execution_count": 5,
   "id": "3986d062",
   "metadata": {},
   "outputs": [],
   "source": [
    "language = \"python\""
   ]
  },
  {
   "cell_type": "code",
   "execution_count": 13,
   "id": "c416c556",
   "metadata": {
    "scrolled": true
   },
   "outputs": [
    {
     "name": "stdout",
     "output_type": "stream",
     "text": [
      "p\n",
      "h\n",
      "n\n"
     ]
    }
   ],
   "source": [
    "print(language[0])\n",
    "print(language[3])\n",
    "print(language[5])\n"
   ]
  },
  {
   "cell_type": "code",
   "execution_count": 17,
   "id": "1dc2946e",
   "metadata": {},
   "outputs": [
    {
     "name": "stdout",
     "output_type": "stream",
     "text": [
      "p\n"
     ]
    }
   ],
   "source": [
    "index = 0\n",
    "print(language[index])"
   ]
  },
  {
   "cell_type": "code",
   "execution_count": 14,
   "id": "558c21af",
   "metadata": {},
   "outputs": [
    {
     "ename": "IndexError",
     "evalue": "string index out of range",
     "output_type": "error",
     "traceback": [
      "\u001b[0;31m---------------------------------------------------------------------------\u001b[0m",
      "\u001b[0;31mIndexError\u001b[0m                                Traceback (most recent call last)",
      "Cell \u001b[0;32mIn [14], line 1\u001b[0m\n\u001b[0;32m----> 1\u001b[0m \u001b[38;5;28mprint\u001b[39m(\u001b[43mlanguage\u001b[49m\u001b[43m[\u001b[49m\u001b[38;5;241;43m6\u001b[39;49m\u001b[43m]\u001b[49m)\n",
      "\u001b[0;31mIndexError\u001b[0m: string index out of range"
     ]
    }
   ],
   "source": [
    "print(language[6])"
   ]
  },
  {
   "cell_type": "code",
   "execution_count": 10,
   "id": "96dafb48",
   "metadata": {},
   "outputs": [
    {
     "name": "stdout",
     "output_type": "stream",
     "text": [
      "6\n"
     ]
    }
   ],
   "source": [
    "print(len(language))"
   ]
  },
  {
   "cell_type": "code",
   "execution_count": 20,
   "id": "73738142",
   "metadata": {},
   "outputs": [
    {
     "name": "stdout",
     "output_type": "stream",
     "text": [
      "n\n",
      "h\n",
      "y\n",
      "p\n"
     ]
    }
   ],
   "source": [
    "print(language[-1])\n",
    "print(language[-3])\n",
    "print(language[-5])\n",
    "print(language[-6])"
   ]
  },
  {
   "cell_type": "code",
   "execution_count": 21,
   "id": "8c5b8dfe",
   "metadata": {},
   "outputs": [
    {
     "ename": "IndexError",
     "evalue": "string index out of range",
     "output_type": "error",
     "traceback": [
      "\u001b[0;31m---------------------------------------------------------------------------\u001b[0m",
      "\u001b[0;31mIndexError\u001b[0m                                Traceback (most recent call last)",
      "Cell \u001b[0;32mIn [21], line 1\u001b[0m\n\u001b[0;32m----> 1\u001b[0m \u001b[38;5;28mprint\u001b[39m(\u001b[43mlanguage\u001b[49m\u001b[43m[\u001b[49m\u001b[38;5;241;43m-\u001b[39;49m\u001b[38;5;241;43m7\u001b[39;49m\u001b[43m]\u001b[49m)\n",
      "\u001b[0;31mIndexError\u001b[0m: string index out of range"
     ]
    }
   ],
   "source": [
    "print(language[-7])"
   ]
  },
  {
   "cell_type": "code",
   "execution_count": 24,
   "id": "07b8f58b",
   "metadata": {},
   "outputs": [
    {
     "name": "stdout",
     "output_type": "stream",
     "text": [
      "n\n"
     ]
    }
   ],
   "source": [
    "print(language[len(language) - 1])"
   ]
  },
  {
   "cell_type": "markdown",
   "id": "38a3f6fe",
   "metadata": {},
   "source": [
    "# Slicing \n",
    "\n",
    "#[<start_index>:<end_index>:<step>] \n",
    "\n",
    "default value for step -> 0\n",
    "end index -> exclusive\n",
    "start index -> inclusive"
   ]
  },
  {
   "cell_type": "code",
   "execution_count": 25,
   "id": "a20a3ed5",
   "metadata": {},
   "outputs": [
    {
     "name": "stdout",
     "output_type": "stream",
     "text": [
      "11\n"
     ]
    }
   ],
   "source": [
    "name = \"Virat Kohli\"\n",
    "print(len(name))"
   ]
  },
  {
   "cell_type": "code",
   "execution_count": 30,
   "id": "bc7b2c21",
   "metadata": {},
   "outputs": [
    {
     "name": "stdout",
     "output_type": "stream",
     "text": [
      "Vira\n"
     ]
    }
   ],
   "source": [
    "# Print \"Virat\"\n",
    "f_name = name[0:4]\n",
    "print(f_name)"
   ]
  },
  {
   "cell_type": "code",
   "execution_count": 31,
   "id": "9f781501",
   "metadata": {},
   "outputs": [
    {
     "name": "stdout",
     "output_type": "stream",
     "text": [
      "Virat\n"
     ]
    }
   ],
   "source": [
    "# Print \"Virat\"\n",
    "f_name = name[0:5]\n",
    "print(f_name)"
   ]
  },
  {
   "cell_type": "code",
   "execution_count": 46,
   "id": "78967657",
   "metadata": {},
   "outputs": [
    {
     "name": "stdout",
     "output_type": "stream",
     "text": [
      "Koh\n"
     ]
    }
   ],
   "source": [
    "#koh\n",
    "print(name[-5:-2])"
   ]
  },
  {
   "cell_type": "code",
   "execution_count": 47,
   "id": "def395b5",
   "metadata": {},
   "outputs": [
    {
     "name": "stdout",
     "output_type": "stream",
     "text": [
      "Ko\n"
     ]
    }
   ],
   "source": [
    "print(name[-5:-3])"
   ]
  },
  {
   "cell_type": "code",
   "execution_count": 37,
   "id": "c99ee2b3",
   "metadata": {},
   "outputs": [
    {
     "name": "stdout",
     "output_type": "stream",
     "text": [
      "Kohli\n"
     ]
    }
   ],
   "source": [
    "l_name=name[6:11]\n",
    "print(l_name)"
   ]
  },
  {
   "cell_type": "code",
   "execution_count": 36,
   "id": "943ba84f",
   "metadata": {},
   "outputs": [
    {
     "name": "stdout",
     "output_type": "stream",
     "text": [
      "Kohli\n"
     ]
    }
   ],
   "source": [
    "l_name= name[6:11]\n",
    "print(l_name)"
   ]
  },
  {
   "cell_type": "code",
   "execution_count": 38,
   "id": "f0f56dd3",
   "metadata": {},
   "outputs": [
    {
     "name": "stdout",
     "output_type": "stream",
     "text": [
      "Virat Kohli\n"
     ]
    }
   ],
   "source": [
    "print(name[::])"
   ]
  },
  {
   "cell_type": "code",
   "execution_count": 39,
   "id": "64192989",
   "metadata": {},
   "outputs": [
    {
     "name": "stdout",
     "output_type": "stream",
     "text": [
      "VrtKhi\n"
     ]
    }
   ],
   "source": [
    "print(name[::2])"
   ]
  },
  {
   "cell_type": "code",
   "execution_count": 40,
   "id": "79417625",
   "metadata": {},
   "outputs": [
    {
     "name": "stdout",
     "output_type": "stream",
     "text": [
      "VaKl\n"
     ]
    }
   ],
   "source": [
    "print(name[::3])"
   ]
  },
  {
   "cell_type": "code",
   "execution_count": 42,
   "id": "1099d848",
   "metadata": {},
   "outputs": [
    {
     "name": "stdout",
     "output_type": "stream",
     "text": [
      "ilhoK tariV\n"
     ]
    }
   ],
   "source": [
    "# Reverse a string\n",
    "print(name[::-1])"
   ]
  },
  {
   "cell_type": "markdown",
   "id": "c570c15b",
   "metadata": {},
   "source": [
    "# In-Built methods"
   ]
  },
  {
   "cell_type": "code",
   "execution_count": 48,
   "id": "be92d086",
   "metadata": {},
   "outputs": [
    {
     "data": {
      "text/plain": [
       "['__add__',\n",
       " '__class__',\n",
       " '__contains__',\n",
       " '__delattr__',\n",
       " '__dir__',\n",
       " '__doc__',\n",
       " '__eq__',\n",
       " '__format__',\n",
       " '__ge__',\n",
       " '__getattribute__',\n",
       " '__getitem__',\n",
       " '__getnewargs__',\n",
       " '__gt__',\n",
       " '__hash__',\n",
       " '__init__',\n",
       " '__init_subclass__',\n",
       " '__iter__',\n",
       " '__le__',\n",
       " '__len__',\n",
       " '__lt__',\n",
       " '__mod__',\n",
       " '__mul__',\n",
       " '__ne__',\n",
       " '__new__',\n",
       " '__reduce__',\n",
       " '__reduce_ex__',\n",
       " '__repr__',\n",
       " '__rmod__',\n",
       " '__rmul__',\n",
       " '__setattr__',\n",
       " '__sizeof__',\n",
       " '__str__',\n",
       " '__subclasshook__',\n",
       " 'capitalize',\n",
       " 'casefold',\n",
       " 'center',\n",
       " 'count',\n",
       " 'encode',\n",
       " 'endswith',\n",
       " 'expandtabs',\n",
       " 'find',\n",
       " 'format',\n",
       " 'format_map',\n",
       " 'index',\n",
       " 'isalnum',\n",
       " 'isalpha',\n",
       " 'isascii',\n",
       " 'isdecimal',\n",
       " 'isdigit',\n",
       " 'isidentifier',\n",
       " 'islower',\n",
       " 'isnumeric',\n",
       " 'isprintable',\n",
       " 'isspace',\n",
       " 'istitle',\n",
       " 'isupper',\n",
       " 'join',\n",
       " 'ljust',\n",
       " 'lower',\n",
       " 'lstrip',\n",
       " 'maketrans',\n",
       " 'partition',\n",
       " 'removeprefix',\n",
       " 'removesuffix',\n",
       " 'replace',\n",
       " 'rfind',\n",
       " 'rindex',\n",
       " 'rjust',\n",
       " 'rpartition',\n",
       " 'rsplit',\n",
       " 'rstrip',\n",
       " 'split',\n",
       " 'splitlines',\n",
       " 'startswith',\n",
       " 'strip',\n",
       " 'swapcase',\n",
       " 'title',\n",
       " 'translate',\n",
       " 'upper',\n",
       " 'zfill']"
      ]
     },
     "execution_count": 48,
     "metadata": {},
     "output_type": "execute_result"
    }
   ],
   "source": [
    "dir(str)"
   ]
  },
  {
   "cell_type": "code",
   "execution_count": 49,
   "id": "bcdd5f72",
   "metadata": {},
   "outputs": [
    {
     "name": "stdout",
     "output_type": "stream",
     "text": [
      "i love python programming\n"
     ]
    }
   ],
   "source": [
    "sentence = \"i love python programming\"\n",
    "print(sentence)"
   ]
  },
  {
   "cell_type": "code",
   "execution_count": 50,
   "id": "c39fdb0b",
   "metadata": {},
   "outputs": [
    {
     "data": {
      "text/plain": [
       "'I love python programming'"
      ]
     },
     "execution_count": 50,
     "metadata": {},
     "output_type": "execute_result"
    }
   ],
   "source": [
    "sentence.capitalize()"
   ]
  },
  {
   "cell_type": "code",
   "execution_count": 51,
   "id": "b4f4a2f2",
   "metadata": {},
   "outputs": [
    {
     "data": {
      "text/plain": [
       "'I LOVE PYTHON PROGRAMMING'"
      ]
     },
     "execution_count": 51,
     "metadata": {},
     "output_type": "execute_result"
    }
   ],
   "source": [
    "sentence.upper()"
   ]
  },
  {
   "cell_type": "code",
   "execution_count": 53,
   "id": "c8be7c68",
   "metadata": {},
   "outputs": [
    {
     "data": {
      "text/plain": [
       "2"
      ]
     },
     "execution_count": 53,
     "metadata": {},
     "output_type": "execute_result"
    }
   ],
   "source": [
    "sentence.count('m')"
   ]
  },
  {
   "cell_type": "code",
   "execution_count": 54,
   "id": "26807d38",
   "metadata": {},
   "outputs": [
    {
     "data": {
      "text/plain": [
       "3"
      ]
     },
     "execution_count": 54,
     "metadata": {},
     "output_type": "execute_result"
    }
   ],
   "source": [
    "sentence.count('o')"
   ]
  },
  {
   "cell_type": "code",
   "execution_count": 55,
   "id": "9d2c602b",
   "metadata": {},
   "outputs": [
    {
     "data": {
      "text/plain": [
       "0"
      ]
     },
     "execution_count": 55,
     "metadata": {},
     "output_type": "execute_result"
    }
   ],
   "source": [
    "sentence.count('M')"
   ]
  },
  {
   "cell_type": "code",
   "execution_count": 60,
   "id": "3c466ad9",
   "metadata": {},
   "outputs": [
    {
     "name": "stdout",
     "output_type": "stream",
     "text": [
      "i love python programming\n"
     ]
    }
   ],
   "source": [
    "print(sentence)"
   ]
  },
  {
   "cell_type": "code",
   "execution_count": 61,
   "id": "468a953c",
   "metadata": {},
   "outputs": [
    {
     "name": "stdout",
     "output_type": "stream",
     "text": [
      "i love python programming\n"
     ]
    }
   ],
   "source": [
    "print(sentence.expandtabs(10))"
   ]
  },
  {
   "cell_type": "code",
   "execution_count": 62,
   "id": "f22fa360",
   "metadata": {},
   "outputs": [
    {
     "data": {
      "text/plain": [
       "8"
      ]
     },
     "execution_count": 62,
     "metadata": {},
     "output_type": "execute_result"
    }
   ],
   "source": [
    "sentence.find('y')"
   ]
  },
  {
   "cell_type": "code",
   "execution_count": 63,
   "id": "d8b85a69",
   "metadata": {},
   "outputs": [
    {
     "data": {
      "text/plain": [
       "3"
      ]
     },
     "execution_count": 63,
     "metadata": {},
     "output_type": "execute_result"
    }
   ],
   "source": [
    "sentence.find('o')"
   ]
  },
  {
   "cell_type": "code",
   "execution_count": 64,
   "id": "3c506fd8",
   "metadata": {},
   "outputs": [
    {
     "data": {
      "text/plain": [
       "16"
      ]
     },
     "execution_count": 64,
     "metadata": {},
     "output_type": "execute_result"
    }
   ],
   "source": [
    "sentence.rfind('o')"
   ]
  },
  {
   "cell_type": "code",
   "execution_count": null,
   "id": "143bded2",
   "metadata": {},
   "outputs": [],
   "source": []
  }
 ],
 "metadata": {
  "kernelspec": {
   "display_name": "Python 3 (ipykernel)",
   "language": "python",
   "name": "python3"
  },
  "language_info": {
   "codemirror_mode": {
    "name": "ipython",
    "version": 3
   },
   "file_extension": ".py",
   "mimetype": "text/x-python",
   "name": "python",
   "nbconvert_exporter": "python",
   "pygments_lexer": "ipython3",
   "version": "3.10.5"
  }
 },
 "nbformat": 4,
 "nbformat_minor": 5
}
