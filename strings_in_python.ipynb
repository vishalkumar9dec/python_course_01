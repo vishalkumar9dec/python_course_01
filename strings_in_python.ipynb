{
 "cells": [
  {
   "cell_type": "code",
   "execution_count": 1,
   "id": "0ca1b7e2",
   "metadata": {},
   "outputs": [],
   "source": [
    "first = \"first string\"\n",
    "second = 'second string'\n",
    "mulitlines_string = '''\n",
    "    this is a python\n",
    "    training class\n",
    "    and we are learning python\n",
    "'''"
   ]
  },
  {
   "cell_type": "code",
   "execution_count": 2,
   "id": "e232ecc7",
   "metadata": {},
   "outputs": [
    {
     "name": "stdout",
     "output_type": "stream",
     "text": [
      "<class 'str'>\n",
      "0\n"
     ]
    }
   ],
   "source": [
    "first_string = \"\"\n",
    "print(type(first_string))\n",
    "print(len(first_string))"
   ]
  },
  {
   "cell_type": "code",
   "execution_count": 3,
   "id": "1bf73ef8",
   "metadata": {},
   "outputs": [
    {
     "name": "stdout",
     "output_type": "stream",
     "text": [
      "<class 'str'>\n",
      "1\n"
     ]
    }
   ],
   "source": [
    "first_string = \" \"\n",
    "print(type(first_string))\n",
    "print(len(first_string))"
   ]
  },
  {
   "cell_type": "code",
   "execution_count": 5,
   "id": "da498e9c",
   "metadata": {},
   "outputs": [
    {
     "name": "stdout",
     "output_type": "stream",
     "text": [
      "This is python training for 30 days\n",
      "35\n"
     ]
    }
   ],
   "source": [
    "sentence = \"This is python training for 30 days\"\n",
    "print(sentence)\n",
    "print(len(sentence))"
   ]
  },
  {
   "cell_type": "code",
   "execution_count": 6,
   "id": "bd7ce3d4",
   "metadata": {},
   "outputs": [
    {
     "name": "stdout",
     "output_type": "stream",
     "text": [
      "KateWinslet\n"
     ]
    }
   ],
   "source": [
    "# String concatenation\n",
    "\n",
    "first_name = \"Kate\"\n",
    "last_name = \"Winslet\"\n",
    "\n",
    "full_name = first_name + last_name\n",
    "print(full_name)\n"
   ]
  },
  {
   "cell_type": "code",
   "execution_count": 11,
   "id": "78d49637",
   "metadata": {},
   "outputs": [
    {
     "name": "stdout",
     "output_type": "stream",
     "text": [
      "Kate Winslet\n"
     ]
    }
   ],
   "source": [
    "first_name = \"Kate\"\n",
    "last_name = \"Winslet\"\n",
    "\n",
    "full_name = first_name + ' ' + last_name\n",
    "print(full_name)"
   ]
  },
  {
   "cell_type": "code",
   "execution_count": 3,
   "id": "f85536f8",
   "metadata": {
    "scrolled": true
   },
   "outputs": [
    {
     "name": "stdout",
     "output_type": "stream",
     "text": [
      "Kate_Winslet\n"
     ]
    }
   ],
   "source": [
    "first_name = \"Kate\"\n",
    "last_name = \"Winslet\"\n",
    "delimiter = \"_\"\n",
    "\n",
    "full_name = first_name + delimiter + last_name\n",
    "print(full_name)"
   ]
  },
  {
   "cell_type": "code",
   "execution_count": 9,
   "id": "eab52da3",
   "metadata": {},
   "outputs": [],
   "source": [
    "course = \"Python\"\n",
    "duration = 30\n",
    "tutor = \"Vishal Kumar\"\n",
    "\n",
    "# expected output = \"We are learning <course_name> for <duration> days. The tutor name is <tutor_name>\""
   ]
  },
  {
   "cell_type": "code",
   "execution_count": 10,
   "id": "45adc4c0",
   "metadata": {},
   "outputs": [
    {
     "data": {
      "text/plain": [
       "'\\n    %s -> string\\n    %d -> integers\\n    %f -> float\\n    %.<num_of_digits>f -> float point with fixed precision\\n    \\n'"
      ]
     },
     "execution_count": 10,
     "metadata": {},
     "output_type": "execute_result"
    }
   ],
   "source": [
    "'''\n",
    "    %s -> string\n",
    "    %d -> integers\n",
    "    %f -> float\n",
    "    %.<num_of_digits>f -> float point with fixed precision\n",
    "    \n",
    "'''"
   ]
  },
  {
   "cell_type": "code",
   "execution_count": 11,
   "id": "015da6cf",
   "metadata": {},
   "outputs": [
    {
     "name": "stdout",
     "output_type": "stream",
     "text": [
      "We are learning Python for 30 days. The tutor name is Vishal Kumar\n"
     ]
    }
   ],
   "source": [
    "output = \"We are learning %s for %d days. The tutor name is %s\"%(course, duration, tutor)\n",
    "print(output)"
   ]
  },
  {
   "cell_type": "code",
   "execution_count": 18,
   "id": "c4dd9e4c",
   "metadata": {},
   "outputs": [
    {
     "name": "stdout",
     "output_type": "stream",
     "text": [
      "We are learning Python for 30 days. The tutor name is Vishal Kumar\n"
     ]
    }
   ],
   "source": [
    "output = \"We are learning {} for {} days. The tutor name is {}\".format(course, duration, tutor)\n",
    "print(output)"
   ]
  },
  {
   "cell_type": "code",
   "execution_count": 26,
   "id": "aeb7b879",
   "metadata": {},
   "outputs": [],
   "source": [
    "radius = 3\n",
    "pi = 3.1486\n",
    "area = pi * radius ** 2\n",
    "\n",
    "# radius is <radius> and pi is <pi>. The area of circle is <area>"
   ]
  },
  {
   "cell_type": "code",
   "execution_count": 27,
   "id": "44c570ab",
   "metadata": {},
   "outputs": [
    {
     "name": "stdout",
     "output_type": "stream",
     "text": [
      "radius is 3 and pi is 3.148600. The area of circle is 28.337400\n"
     ]
    }
   ],
   "source": [
    "output = \"radius is %d and pi is %f. The area of circle is %f\" %(radius, pi, area)\n",
    "print(output)"
   ]
  },
  {
   "cell_type": "code",
   "execution_count": 28,
   "id": "1fb1000f",
   "metadata": {},
   "outputs": [
    {
     "name": "stdout",
     "output_type": "stream",
     "text": [
      "radius is 3 and pi is 3.15. The area of circle is 28.3\n"
     ]
    }
   ],
   "source": [
    "output = \"radius is %d and pi is %.2f. The area of circle is %.1f\" %(radius, pi, area)\n",
    "print(output)"
   ]
  },
  {
   "cell_type": "code",
   "execution_count": 29,
   "id": "451962b3",
   "metadata": {},
   "outputs": [
    {
     "name": "stdout",
     "output_type": "stream",
     "text": [
      "radius is 3 and pi is 3.15. The area of circle is 28.34\n"
     ]
    }
   ],
   "source": [
    "output = \"radius is {} and pi is {:.2f}. The area of circle is {:.2f}\".format(radius, pi, area)\n",
    "print(output)"
   ]
  },
  {
   "cell_type": "code",
   "execution_count": 30,
   "id": "c508b419",
   "metadata": {},
   "outputs": [
    {
     "name": "stdout",
     "output_type": "stream",
     "text": [
      "radius is 3.1486 and pi is 3.00. The area of circle is 28.34\n"
     ]
    }
   ],
   "source": [
    "output = \"radius is {} and pi is {:.2f}. The area of circle is {:.2f}\".format(pi, radius, area)\n",
    "print(output)"
   ]
  },
  {
   "cell_type": "code",
   "execution_count": null,
   "id": "60b6da9a",
   "metadata": {},
   "outputs": [],
   "source": [
    "# String interpolation (python 3.6+)"
   ]
  },
  {
   "cell_type": "code",
   "execution_count": null,
   "id": "a7cffaa4",
   "metadata": {},
   "outputs": [],
   "source": [
    "radius = 3\n",
    "pi = 3.1486\n",
    "area = pi * radius ** 2"
   ]
  },
  {
   "cell_type": "code",
   "execution_count": 31,
   "id": "2a503d93",
   "metadata": {},
   "outputs": [
    {
     "name": "stdout",
     "output_type": "stream",
     "text": [
      "radius is 3 and pi is 3.1486. The area of circle is 28.337400000000002\n"
     ]
    }
   ],
   "source": [
    "output = f\"radius is {radius} and pi is {pi}. The area of circle is {area}\"\n",
    "print(output)"
   ]
  },
  {
   "cell_type": "code",
   "execution_count": 32,
   "id": "5ff1654d",
   "metadata": {},
   "outputs": [
    {
     "name": "stdout",
     "output_type": "stream",
     "text": [
      "radius is 3 and pi is 3.1486. The area of circle is 28.337400000000002\n"
     ]
    }
   ],
   "source": [
    "radius = 3\n",
    "pi = 3.1486\n",
    "# area = pi * radius ** 2\n",
    "output = f\"radius is {radius} and pi is {pi}. The area of circle is {pi * radius ** 2}\"\n",
    "print(output)"
   ]
  },
  {
   "cell_type": "code",
   "execution_count": 33,
   "id": "af9517a7",
   "metadata": {},
   "outputs": [
    {
     "name": "stdout",
     "output_type": "stream",
     "text": [
      "radius is 3 and pi is 3.1486. The area of circle is 28.337400000000002\n"
     ]
    }
   ],
   "source": [
    "radius = 3\n",
    "pi = 3.1486\n",
    "print(f\"radius is {radius} and pi is {pi}. The area of circle is {pi * radius ** 2}\")"
   ]
  },
  {
   "cell_type": "code",
   "execution_count": null,
   "id": "5b27dbc3",
   "metadata": {},
   "outputs": [],
   "source": []
  },
  {
   "cell_type": "code",
   "execution_count": null,
   "id": "bd4bcfa8",
   "metadata": {},
   "outputs": [],
   "source": []
  },
  {
   "cell_type": "code",
   "execution_count": null,
   "id": "b2207abe",
   "metadata": {},
   "outputs": [],
   "source": []
  },
  {
   "cell_type": "code",
   "execution_count": null,
   "id": "9fc5b482",
   "metadata": {},
   "outputs": [],
   "source": []
  },
  {
   "cell_type": "code",
   "execution_count": null,
   "id": "721b71d5",
   "metadata": {},
   "outputs": [],
   "source": []
  },
  {
   "cell_type": "code",
   "execution_count": null,
   "id": "27b18783",
   "metadata": {},
   "outputs": [],
   "source": []
  },
  {
   "cell_type": "code",
   "execution_count": null,
   "id": "d35bf3f9",
   "metadata": {},
   "outputs": [],
   "source": []
  },
  {
   "cell_type": "code",
   "execution_count": null,
   "id": "aaa40b93",
   "metadata": {},
   "outputs": [],
   "source": []
  },
  {
   "cell_type": "code",
   "execution_count": null,
   "id": "a1938e01",
   "metadata": {},
   "outputs": [],
   "source": []
  },
  {
   "cell_type": "code",
   "execution_count": null,
   "id": "f7768d90",
   "metadata": {},
   "outputs": [],
   "source": []
  },
  {
   "cell_type": "code",
   "execution_count": null,
   "id": "40eea383",
   "metadata": {},
   "outputs": [],
   "source": []
  },
  {
   "cell_type": "code",
   "execution_count": null,
   "id": "4cfd5d31",
   "metadata": {},
   "outputs": [],
   "source": []
  },
  {
   "cell_type": "markdown",
   "id": "85c41998",
   "metadata": {},
   "source": [
    "# Q1 : Is python a dynamic typed language or static typed language?"
   ]
  },
  {
   "cell_type": "markdown",
   "id": "55a411e9",
   "metadata": {},
   "source": [
    "# Q2 : Type conversion in python?"
   ]
  },
  {
   "cell_type": "markdown",
   "id": "e61f010f",
   "metadata": {},
   "source": [
    "# Q3 : Floating point digits precision in string interpolation"
   ]
  },
  {
   "cell_type": "code",
   "execution_count": 38,
   "id": "50b97a9b",
   "metadata": {},
   "outputs": [
    {
     "name": "stdout",
     "output_type": "stream",
     "text": [
      "Thirty Days Of Python\n"
     ]
    }
   ],
   "source": [
    "# Concatenate the string 'Thirty', 'Days', 'Of', 'Python' to a single string, 'Thirty Days Of Python'.\n",
    "first = \"Thirty\"\n",
    "second = \"Days\"\n",
    "third = \"Of\"\n",
    "fourth = \"Python\"\n",
    "space = \" \"\n",
    "\n",
    "single_string = first + space + second + space + third + space + fourth\n",
    "print(single_string)\n"
   ]
  },
  {
   "cell_type": "code",
   "execution_count": 39,
   "id": "49c90ec0",
   "metadata": {},
   "outputs": [
    {
     "name": "stdout",
     "output_type": "stream",
     "text": [
      "Thirty Days Of Python\n"
     ]
    }
   ],
   "source": [
    "output = f\"{first} {second} {third} {fourth}\"\n",
    "print(output)"
   ]
  },
  {
   "cell_type": "code",
   "execution_count": null,
   "id": "3b18da5d",
   "metadata": {},
   "outputs": [],
   "source": []
  }
 ],
 "metadata": {
  "kernelspec": {
   "display_name": "Python 3 (ipykernel)",
   "language": "python",
   "name": "python3"
  },
  "language_info": {
   "codemirror_mode": {
    "name": "ipython",
    "version": 3
   },
   "file_extension": ".py",
   "mimetype": "text/x-python",
   "name": "python",
   "nbconvert_exporter": "python",
   "pygments_lexer": "ipython3",
   "version": "3.10.5"
  }
 },
 "nbformat": 4,
 "nbformat_minor": 5
}
